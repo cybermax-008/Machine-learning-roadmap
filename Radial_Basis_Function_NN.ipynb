{
 "cells": [
  {
   "cell_type": "markdown",
   "metadata": {},
   "source": [
    "# QUESTION 3"
   ]
  },
  {
   "cell_type": "code",
   "execution_count": 3,
   "metadata": {},
   "outputs": [],
   "source": [
    "import numpy as np\n",
    "from sklearn.cluster import KMeans\n",
    "import matplotlib.pyplot as plt"
   ]
  },
  {
   "cell_type": "markdown",
   "metadata": {},
   "source": [
    "## Function for Creating Dataset"
   ]
  },
  {
   "cell_type": "code",
   "execution_count": 4,
   "metadata": {},
   "outputs": [],
   "source": [
    "\"\"\"\n",
    "Create random dataset - inside and outside circle of radius 1\n",
    "    x: cartesian coordinates (x1,x2) => over region -2 <x1< 2 and -2 <x2< 2 \n",
    "    y: f(x1,x2) = +1 if (x1^2 + x2^2) <= 1 ; -1 if (x1^2 + x2^2) > 1\n",
    "    \n",
    "\"\"\"\n",
    "\n",
    "def create_dataset(n_data):\n",
    "    # create random i and j values between 0 and 20\n",
    "    i = np.random.randint(0,21,n_data) \n",
    "    j = np.random.randint(0,21,n_data)\n",
    "    # Create feature X1, feature X2 and y based on given constraint\n",
    "    x1 = -2+0.2*i\n",
    "    x2 = -2+0.2*j\n",
    "    y = np.where((x1**2 + x2**2 > 1),int(-1),int(1))\n",
    "    # Stack x1,x2 and y vertically to form the dataset\n",
    "    data = np.vstack((x1,x2,y)).T\n",
    "    return data\n",
    "        "
   ]
  },
  {
   "cell_type": "markdown",
   "metadata": {},
   "source": [
    "## RBFN model and training methods"
   ]
  },
  {
   "cell_type": "code",
   "execution_count": 5,
   "metadata": {},
   "outputs": [],
   "source": [
    "def signum(x):\n",
    "    #Signum activation function for output node\n",
    "    return np.sign(x)\n",
    "\n",
    "class RBFN ():\n",
    "    def __init__(self,sigma,n_cluster=None,k_means=False,random_centers=False):\n",
    "        \"\"\"\n",
    "        RBFN - Radial basis function network\n",
    "            sigma - spread parameter \n",
    "            n_cluster - no of centers (hidden layer nodes)\n",
    "            k_means - Do not perform k_means by default\n",
    "            random_centers - Perform np.random.choice to select the centers\n",
    "        \"\"\"\n",
    "        self.k_means = k_means\n",
    "        self.random_centers = random_centers\n",
    "        self.n_cluster = n_cluster\n",
    "        self.sigma = sigma\n",
    "        print(\"Sigma:\",self.sigma)\n",
    "        \n",
    "        \n",
    "    def create_centers(self,x):\n",
    "        \n",
    "        # If KMEANS is given TRUE, find the centers using sklearn.cluster.k_means\n",
    "        if self.k_means:\n",
    "            self.v=KMeans(n_clusters=self.n_cluster).fit(x).cluster_centers_\n",
    "        # If random_centers is given TRUE find the centers randomly using np.random.choice\n",
    "        elif(self.random_centers):\n",
    "            index=np.random.choice(x.shape[0],self.n_cluster,replace=False)\n",
    "            self.v=x[index]\n",
    "        # Take no of centers same as input by DEFAULT\n",
    "        else:\n",
    "            self.v = x.copy()\n",
    "\n",
    "    def euclidean_distance(self,x_i,center):\n",
    "        # FInd the Euclidean distance between center and the choosen input \n",
    "        return np.linalg.norm(x_i-center)\n",
    "    \n",
    "    def G(self,x):\n",
    "        # RBF kernel function \n",
    "        self.g=np.zeros((len(x),len(self.v))) # Create array of zeros with dimension (inputDim,CenterDim)\n",
    "        for ind_x,inp in enumerate(x):\n",
    "            for ind_c,center in enumerate(self.v):\n",
    "                rbf=self.gaussiankernel(center,inp)\n",
    "                self.g[ind_x][ind_c]=rbf\n",
    "        return self.g\n",
    "    \n",
    "    def weight(self,x,y):\n",
    "        # FInding the weight using G and Y_actual\n",
    "        g=self.G(x)\n",
    "        gg_inv = np.linalg.pinv(g)    \n",
    "        self.w=np.dot(gg_inv,y)\n",
    "        return self.w\n",
    "\n",
    "    def gaussiankernel(self, center, point):\n",
    "        return np.exp((-1 / (2*self.sigma**2))*np.linalg.norm(point-center)**2)\n",
    "    \n",
    "    def D_cap(self,x):\n",
    "        self.d_cap=np.dot(self.G(x),self.w) #D_cap is the predicted output\n",
    "        return signum(self.d_cap)\n",
    "    \n",
    "    def train(self,x,y):\n",
    "        # training procedure to update the weights\n",
    "        self.create_centers(x)\n",
    "        self.weight(x,y)\n",
    "        y_p = self.D_cap(x)\n",
    "        print(\"Training Accuracy:\",self.accuracy(y,y_p))\n",
    "    \n",
    "    def mse(self,y_true,y_pred):\n",
    "        #Mean square Error calculation\n",
    "        mse = ((y_true - y_pred)**2).mean(axis=0)\n",
    "        return mse[0]\n",
    "    \n",
    "    def accuracy(self,y_true, y_pred):\n",
    "        #Accuracy calculation\n",
    "        if not (len(y_true) == len(y_pred)):\n",
    "            print('Size of predicted and true labels not equal.')\n",
    "            return 0.0\n",
    "        \n",
    "        corr = 0\n",
    "        y_true=y_true.flatten()\n",
    "        y_pred=y_pred.flatten()\n",
    "        for i in range(len(y_true)):\n",
    "            if y_true[i]==y_pred[i]:\n",
    "                corr+=1\n",
    "\n",
    "        return corr/len(y_true)\n",
    "    \n",
    "    def predict(self,x_test):\n",
    "        y_pred= self.D_cap(x_test)\n",
    "        return y_pred\n",
    "    \n",
    "    def getWeight(self):\n",
    "        return self.w\n",
    "    \n",
    "    def getG(self):\n",
    "        return self.g\n",
    "        \n",
    "    \n",
    "    "
   ]
  },
  {
   "cell_type": "markdown",
   "metadata": {},
   "source": [
    "## Preparation of Dataset"
   ]
  },
  {
   "cell_type": "code",
   "execution_count": 17,
   "metadata": {},
   "outputs": [],
   "source": [
    "# Create dataset with 441 sampled data\n",
    "dataset = create_dataset(441)\n",
    "# Shuffle and split the data into TRAIN SET and TEST SET\n",
    "np.random.shuffle(dataset)\n",
    "train_pro=int(len(dataset)*0.8)\n",
    "train, test = dataset[:train_pro,:], dataset[train_pro:,:]\n",
    "sigma = [0.1,0.35,0.5,0.6,0.7,0.8,0.9,1,3,5,7.5,10]\n",
    "X_train=train[:,:2]\n",
    "X_test = test[:,:2]\n",
    "y_train=train[:,2:]\n",
    "y_test=test[:,2:]"
   ]
  },
  {
   "cell_type": "code",
   "execution_count": 18,
   "metadata": {},
   "outputs": [
    {
     "name": "stdout",
     "output_type": "stream",
     "text": [
      "X_train:(352, 2),X_test:(89, 2),y_train:(352, 1),y_test:(89, 1)\n",
      "sigma = [0.1,0.35,0.5,0.6,0.7,0.8,0.9,1,3,5,7.5,10]\n"
     ]
    }
   ],
   "source": [
    "print(\"X_train:{},X_test:{},y_train:{},y_test:{}\".format(X_train.shape,X_test.shape,y_train.shape,y_test.shape))\n",
    "print(\"sigma = [0.1,0.35,0.5,0.6,0.7,0.8,0.9,1,3,5,7.5,10]\")"
   ]
  },
  {
   "cell_type": "markdown",
   "metadata": {},
   "source": [
    "### Part 1: Using centers equal to training set"
   ]
  },
  {
   "cell_type": "code",
   "execution_count": 19,
   "metadata": {},
   "outputs": [
    {
     "name": "stdout",
     "output_type": "stream",
     "text": [
      "Sigma: 0.1\n",
      "Training Accuracy: 1.0\n",
      "Test Accuracy:0.9887640449438202  ; MSE:0.0449438202247191\n",
      "Sigma: 0.35\n",
      "Training Accuracy: 1.0\n",
      "Test Accuracy:0.9213483146067416  ; MSE:0.3146067415730337\n",
      "Sigma: 0.5\n",
      "Training Accuracy: 1.0\n",
      "Test Accuracy:0.8539325842696629  ; MSE:0.5842696629213483\n",
      "Sigma: 0.6\n",
      "Training Accuracy: 1.0\n",
      "Test Accuracy:0.8089887640449438  ; MSE:0.7640449438202247\n",
      "Sigma: 0.7\n",
      "Training Accuracy: 1.0\n",
      "Test Accuracy:0.7191011235955056  ; MSE:1.1235955056179776\n",
      "Sigma: 0.8\n",
      "Training Accuracy: 1.0\n",
      "Test Accuracy:0.8876404494382022  ; MSE:0.449438202247191\n",
      "Sigma: 0.9\n",
      "Training Accuracy: 1.0\n",
      "Test Accuracy:0.8876404494382022  ; MSE:0.449438202247191\n",
      "Sigma: 1\n",
      "Training Accuracy: 1.0\n",
      "Test Accuracy:0.9213483146067416  ; MSE:0.3146067415730337\n",
      "Sigma: 3\n",
      "Training Accuracy: 0.9914772727272727\n",
      "Test Accuracy:0.9887640449438202  ; MSE:0.0449438202247191\n",
      "Sigma: 5\n",
      "Training Accuracy: 0.9886363636363636\n",
      "Test Accuracy:0.9887640449438202  ; MSE:0.0449438202247191\n",
      "Sigma: 7.5\n",
      "Training Accuracy: 0.9914772727272727\n",
      "Test Accuracy:0.9887640449438202  ; MSE:0.0449438202247191\n",
      "Sigma: 10\n",
      "Training Accuracy: 0.9943181818181818\n",
      "Test Accuracy:0.9887640449438202  ; MSE:0.0449438202247191\n"
     ]
    },
    {
     "data": {
      "image/png": "[encoded data removed]",
      "text/plain": [
       "<Figure size 432x288 with 2 Axes>"
      ]
     },
     "metadata": {
      "needs_background": "light"
     },
     "output_type": "display_data"
    },
    {
     "name": "stdout",
     "output_type": "stream",
     "text": [
      "CPU times: user 1min 15s, sys: 2.57 s, total: 1min 18s\n",
      "Wall time: 1min 8s\n"
     ]
    }
   ],
   "source": [
    "%%time\n",
    "acc_list1=[]\n",
    "err_list1=[]\n",
    "#Looping through Sigma values\n",
    "for sig in sigma:\n",
    "    model=RBFN(sig) # Create Model object with centers same as training set\n",
    "    model.train(X_train,y_train) # Train the model with training dataset\n",
    "    y_pred=model.predict(X_test) # Predict the output using test dataset\n",
    "    acc=model.accuracy(y_test,y_pred) # Accuracy of the model\n",
    "    err=model.mse(y_test,y_pred) # MSE of the model\n",
    "    print(\"Test Accuracy:{}  ; MSE:{}\".format(acc,err))\n",
    "    err_list1.append(err)\n",
    "    acc_list1.append(acc)\n",
    "\n",
    "\n",
    "# Ploting accuracy and MSE\n",
    "fig, ax = plt.subplots(2,1)\n",
    "\n",
    "ax[0].plot(sigma,acc_list)\n",
    "ax[0].set_xlabel('Value of sigma')\n",
    "ax[0].set_ylabel('Accuracy')\n",
    "\n",
    "\n",
    "ax[1].plot(sigma,err_list)\n",
    "ax[1].set_xlabel('Value of sigma')\n",
    "ax[1].set_ylabel('MSE')\n",
    "plt.show()"
   ]
  },
  {
   "cell_type": "markdown",
   "metadata": {},
   "source": [
    "**Best Spread parameter = 3**  \n",
    "- Training accuracy = 99.14    \n",
    "- Test accuracy = 98.87  \n",
    "- MSE = 0.04494\n",
    "- Execution time - 68 sec"
   ]
  },
  {
   "cell_type": "markdown",
   "metadata": {},
   "source": [
    "### PART:2.1 Using Random 150 centers"
   ]
  },
  {
   "cell_type": "code",
   "execution_count": 20,
   "metadata": {},
   "outputs": [
    {
     "name": "stdout",
     "output_type": "stream",
     "text": [
      "Sigma: 0.1\n",
      "Training Accuracy: 0.9914772727272727\n",
      "Test Accuracy:0.9887640449438202  ; MSE:0.0449438202247191\n",
      "Sigma: 0.35\n",
      "Training Accuracy: 0.9971590909090909\n",
      "Test Accuracy:0.9887640449438202  ; MSE:0.0449438202247191\n",
      "Sigma: 0.5\n",
      "Training Accuracy: 1.0\n",
      "Test Accuracy:0.9662921348314607  ; MSE:0.1348314606741573\n",
      "Sigma: 0.6\n",
      "Training Accuracy: 1.0\n",
      "Test Accuracy:0.9662921348314607  ; MSE:0.1348314606741573\n",
      "Sigma: 0.7\n",
      "Training Accuracy: 1.0\n",
      "Test Accuracy:0.9662921348314607  ; MSE:0.1348314606741573\n",
      "Sigma: 0.8\n",
      "Training Accuracy: 1.0\n",
      "Test Accuracy:0.9662921348314607  ; MSE:0.1348314606741573\n",
      "Sigma: 0.9\n",
      "Training Accuracy: 1.0\n",
      "Test Accuracy:0.9662921348314607  ; MSE:0.1348314606741573\n",
      "Sigma: 1\n",
      "Training Accuracy: 1.0\n",
      "Test Accuracy:0.9550561797752809  ; MSE:0.1797752808988764\n",
      "Sigma: 3\n",
      "Training Accuracy: 0.9914772727272727\n",
      "Test Accuracy:0.9887640449438202  ; MSE:0.0449438202247191\n",
      "Sigma: 5\n",
      "Training Accuracy: 0.9886363636363636\n",
      "Test Accuracy:0.9887640449438202  ; MSE:0.0449438202247191\n",
      "Sigma: 7.5\n",
      "Training Accuracy: 0.9914772727272727\n",
      "Test Accuracy:0.9887640449438202  ; MSE:0.0449438202247191\n",
      "Sigma: 10\n",
      "Training Accuracy: 0.9943181818181818\n",
      "Test Accuracy:0.9887640449438202  ; MSE:0.0449438202247191\n"
     ]
    },
    {
     "data": {
      "image/png": "[encoded data removed]",
      "text/plain": [
       "<Figure size 432x288 with 2 Axes>"
      ]
     },
     "metadata": {
      "needs_background": "light"
     },
     "output_type": "display_data"
    },
    {
     "name": "stdout",
     "output_type": "stream",
     "text": [
      "CPU times: user 35.1 s, sys: 1.7 s, total: 36.8 s\n",
      "Wall time: 28 s\n"
     ]
    }
   ],
   "source": [
    "%%time\n",
    "acc_list2=[]\n",
    "err_list2=[]\n",
    "#Looping through Sigma values\n",
    "for sig in sigma:\n",
    "    model=RBFN(sig,n_cluster=150,random_centers=True) # Create Model object with 150 centers randomly choosen\n",
    "    model.train(X_train,y_train)  # Train the model with training dataset\n",
    "    y_pred=model.predict(X_test) # Predict the output using test dataset\n",
    "    acc=model.accuracy(y_test,y_pred) # Accuracy of the model\n",
    "    err=model.mse(y_test,y_pred)  # MSE of the model\n",
    "    print(\"Test Accuracy:{}  ; MSE:{}\".format(acc,err))\n",
    "    err_list2.append(err)\n",
    "    acc_list2.append(acc)\n",
    "\n",
    "# Ploting accuracy and MSE\n",
    "fig, ax = plt.subplots(2,1)\n",
    "\n",
    "ax[0].plot(sigma,acc_list)\n",
    "ax[0].set_xlabel('Value of sigma')\n",
    "ax[0].set_ylabel('Accuracy')\n",
    "\n",
    "\n",
    "ax[1].plot(sigma,err_list)\n",
    "ax[1].set_xlabel('Value of sigma')\n",
    "ax[1].set_ylabel('MSE')\n",
    "plt.show()"
   ]
  },
  {
   "cell_type": "markdown",
   "metadata": {},
   "source": [
    "**Best Spread parameter = 3**  \n",
    "- Training accuracy = 99.14  \n",
    "- Test accuracy = 98.87  \n",
    "- MSE = 0.04494\n",
    "- Execution time - 28 sec"
   ]
  },
  {
   "cell_type": "markdown",
   "metadata": {},
   "source": [
    "### PART:2.2 using K-means 150 centers"
   ]
  },
  {
   "cell_type": "code",
   "execution_count": 21,
   "metadata": {},
   "outputs": [
    {
     "name": "stdout",
     "output_type": "stream",
     "text": [
      "Sigma: 0.1\n",
      "Training Accuracy: 0.9886363636363636\n",
      "Test Accuracy:0.9550561797752809  ; MSE:0.1797752808988764\n",
      "Sigma: 0.35\n",
      "Training Accuracy: 1.0\n",
      "Test Accuracy:0.9662921348314607  ; MSE:0.1348314606741573\n",
      "Sigma: 0.5\n",
      "Training Accuracy: 1.0\n",
      "Test Accuracy:0.9887640449438202  ; MSE:0.0449438202247191\n",
      "Sigma: 0.6\n",
      "Training Accuracy: 1.0\n",
      "Test Accuracy:0.9662921348314607  ; MSE:0.1348314606741573\n",
      "Sigma: 0.7\n",
      "Training Accuracy: 1.0\n",
      "Test Accuracy:0.9775280898876404  ; MSE:0.0898876404494382\n",
      "Sigma: 0.8\n",
      "Training Accuracy: 1.0\n",
      "Test Accuracy:0.9550561797752809  ; MSE:0.1797752808988764\n",
      "Sigma: 0.9\n",
      "Training Accuracy: 0.9971590909090909\n",
      "Test Accuracy:0.9325842696629213  ; MSE:0.2696629213483146\n",
      "Sigma: 1\n",
      "Training Accuracy: 1.0\n",
      "Test Accuracy:0.9325842696629213  ; MSE:0.2696629213483146\n",
      "Sigma: 3\n",
      "Training Accuracy: 0.9914772727272727\n",
      "Test Accuracy:0.9887640449438202  ; MSE:0.0449438202247191\n",
      "Sigma: 5\n",
      "Training Accuracy: 0.9886363636363636\n",
      "Test Accuracy:0.9887640449438202  ; MSE:0.0449438202247191\n",
      "Sigma: 7.5\n",
      "Training Accuracy: 0.9914772727272727\n",
      "Test Accuracy:0.9887640449438202  ; MSE:0.0449438202247191\n",
      "Sigma: 10\n",
      "Training Accuracy: 0.9943181818181818\n",
      "Test Accuracy:0.9887640449438202  ; MSE:0.0449438202247191\n"
     ]
    },
    {
     "data": {
      "image/png": "[encoded data removed]",
      "text/plain": [
       "<Figure size 432x288 with 2 Axes>"
      ]
     },
     "metadata": {
      "needs_background": "light"
     },
     "output_type": "display_data"
    },
    {
     "name": "stdout",
     "output_type": "stream",
     "text": [
      "CPU times: user 50.9 s, sys: 1.44 s, total: 52.4 s\n",
      "Wall time: 35.4 s\n"
     ]
    }
   ],
   "source": [
    "%%time\n",
    "acc_list3=[]\n",
    "err_list3=[]\n",
    "#Looping through Sigma values\n",
    "for sig in sigma:\n",
    "    model=RBFN(sig,n_cluster=150,k_means=True)  # Create Model object with 150 centers randomly choosen\n",
    "    model.train(X_train,y_train) # Train the model with training dataset\n",
    "    y_pred=model.predict(X_test) # Predict the output using test dataset\n",
    "    acc=model.accuracy(y_test,y_pred) # Accuracy of the model\n",
    "    err=model.mse(y_test,y_pred)  # MSE of the model\n",
    "    print(\"Test Accuracy:{}  ; MSE:{}\".format(acc,err))\n",
    "    err_list3.append(err)\n",
    "    acc_list3.append(acc)\n",
    "\n",
    "# Ploting accuracy and MSE\n",
    "fig, ax = plt.subplots(2,1)\n",
    "\n",
    "ax[0].plot(sigma,acc_list)\n",
    "ax[0].set_xlabel('Value of sigma')\n",
    "ax[0].set_ylabel('Accuracy')\n",
    "\n",
    "\n",
    "ax[1].plot(sigma,err_list)\n",
    "ax[1].set_xlabel('Value of sigma')\n",
    "ax[1].set_ylabel('MSE')\n",
    "plt.show()"
   ]
  },
  {
   "cell_type": "markdown",
   "metadata": {},
   "source": [
    "**Best Spread parameter = 3**  \n",
    "- Training accuracy = 99.14 \n",
    "- Test accuracy = 98.87  \n",
    "- MSE = 0.04494\n",
    "- Execution time - 35.4 sec"
   ]
  },
  {
   "cell_type": "markdown",
   "metadata": {},
   "source": [
    "## Comparision of all methods"
   ]
  },
  {
   "cell_type": "code",
   "execution_count": 22,
   "metadata": {},
   "outputs": [
    {
     "data": {
      "image/png": "[encoded data removed]",
      "text/plain": [
       "<Figure size 432x288 with 1 Axes>"
      ]
     },
     "metadata": {
      "needs_background": "light"
     },
     "output_type": "display_data"
    }
   ],
   "source": [
    "fig = plt.figure()\n",
    "ax = fig.add_subplot(111)\n",
    "ax.plot(sigma ,err_list1, color='blue', linewidth=1)\n",
    "ax.plot(sigma ,err_list2 , color='red', linewidth=1)\n",
    "ax.plot(sigma ,err_list3, color='green', linewidth=1)\n",
    "plt.xlabel(\"Spread Parameter\")\n",
    "plt.ylabel(\"Mean Squared Error\")\n",
    "plt.show()"
   ]
  },
  {
   "cell_type": "code",
   "execution_count": 23,
   "metadata": {},
   "outputs": [
    {
     "data": {
      "image/png": "[encoded data removed]",
      "text/plain": [
       "<Figure size 432x288 with 1 Axes>"
      ]
     },
     "metadata": {
      "needs_background": "light"
     },
     "output_type": "display_data"
    }
   ],
   "source": [
    "fig = plt.figure()\n",
    "ax = fig.add_subplot(111)\n",
    "ax.plot(sigma ,acc_list1, color='blue', linewidth=1)\n",
    "ax.plot(sigma ,acc_list2 , color='red', linewidth=1)\n",
    "ax.plot(sigma ,acc_list3, color='green', linewidth=1)\n",
    "plt.xlabel(\"Spread Parameter\")\n",
    "plt.ylabel(\"Accuracy\")\n",
    "plt.show()"
   ]
  },
  {
   "cell_type": "markdown",
   "metadata": {},
   "source": [
    "# INFERENCE\n",
    "\n"
   ]
  },
  {
   "cell_type": "markdown",
   "metadata": {},
   "source": [
    "- The Best Spread parameter from PART 1 we get is 3.\n",
    "- The Accuracy and MSE are constant after Spread parameter  = 3 , because the gaussian function that we calcualte reachs its maximum value of 1 from $\\sigma=3$. So, the weights wont be changed after such point.\n",
    "- The execution time of using all training inputs as centers is maximum of 68 sec and randomly choosen 150 centers take minimum execution time of 28 sec. And, K-means takes 35.4 sec.\n",
    "- Among all three, Kmeans seem to be stable. Because, when i tried with different inputs, the accuracy and MSE of test did not fluctuate much whereas other startigies fluctuated a lot.\n",
    "- CHanging the number of nodes for PART 2: In this case also, KMEANS was giving stable pattern of MSE for each of the sigma values comapred to Randomly choosen center strategy.\n",
    "- From the comparision graphs, MSE and Accuracy is stable for varying $\\sigma$ values in K-Means startegy, and unstable for choosing all centers."
   ]
  },
  {
   "cell_type": "code",
   "execution_count": null,
   "metadata": {},
   "outputs": [],
   "source": []
  }
 ],
 "metadata": {
  "kernelspec": {
   "display_name": "Python [conda env:mlEnv]",
   "language": "python",
   "name": "conda-env-mlEnv-py"
  },
  "language_info": {
   "codemirror_mode": {
    "name": "ipython",
    "version": 3
   },
   "file_extension": ".py",
   "mimetype": "text/x-python",
   "name": "python",
   "nbconvert_exporter": "python",
   "pygments_lexer": "ipython3",
   "version": "3.8.3"
  },
  "toc": {
   "base_numbering": 1,
   "nav_menu": {},
   "number_sections": false,
   "sideBar": true,
   "skip_h1_title": false,
   "title_cell": "Table of Contents",
   "title_sidebar": "Contents",
   "toc_cell": false,
   "toc_position": {},
   "toc_section_display": true,
   "toc_window_display": false
  }
 },
 "nbformat": 4,
 "nbformat_minor": 4
}
